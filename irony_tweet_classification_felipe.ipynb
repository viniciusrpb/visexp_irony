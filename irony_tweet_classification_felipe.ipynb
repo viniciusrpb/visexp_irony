{
 "cells": [
  {
   "cell_type": "markdown",
   "metadata": {},
   "source": [
    "Seção inalterada:"
   ]
  },
  {
   "cell_type": "code",
   "execution_count": 1,
   "metadata": {},
   "outputs": [
    {
     "name": "stdout",
     "output_type": "stream",
     "text": [
      "(3817, 3)\n",
      "   Tweet index  Label                                         Tweet text\n",
      "0            1      1  Sweet United Nations video. Just in time for C...\n",
      "1            2      1  @mrdahl87 We are rumored to have talked to Erv...\n",
      "2            3      1  Hey there! Nice to see you Minnesota/ND Winter...\n",
      "3            4      0                3 episodes left I'm dying over here\n",
      "4            5      1  I can't breathe! was chosen as the most notabl...\n",
      "[1 0]\n",
      "(3817, 3427)\n"
     ]
    }
   ],
   "source": [
    "import pandas as pd\n",
    "import numpy as np\n",
    "import matplotlib.pyplot as plt\n",
    "\n",
    "from sklearn.feature_extraction.text import TfidfVectorizer\n",
    "from sklearn.ensemble import RandomForestClassifier\n",
    "from sklearn.naive_bayes import GaussianNB\n",
    "from sklearn.neural_network import MLPClassifier\n",
    "from sklearn.neighbors import KNeighborsClassifier\n",
    "from sklearn.model_selection import train_test_split\n",
    "from sklearn.naive_bayes import MultinomialNB\n",
    "from sklearn.metrics import classification_report\n",
    "from sklearn.metrics import confusion_matrix\n",
    "from sklearn.metrics import plot_confusion_matrix\n",
    "from sklearn import svm\n",
    "\n",
    "def plotConfusionMatrix(classifier,X_test,y_test,y_pred,class_names):\n",
    "    np.set_printoptions(precision=2)\n",
    "\n",
    "    # Plot non-normalized confusion matrix\n",
    "    titles_options = [(\"Confusion matrix, without normalization\", None),(\"Normalized confusion matrix\", 'true')]\n",
    "    for title, normalize in titles_options:\n",
    "        disp = plot_confusion_matrix(classifier, X_test, y_test,display_labels=class_names,cmap=plt.cm.Blues)\n",
    "        disp.ax_.set_title(title)\n",
    "\n",
    "        print(title)\n",
    "        print(disp.confusion_matrix)\n",
    "\n",
    "    plt.show()\n",
    "    return ;\n",
    "\n",
    "\n",
    "path_tweet_set = 'data/SemEval2018-T3-train-taskA.txt'\n",
    "\n",
    "corpus_tweets = pd.read_csv(path_tweet_set,encoding=\"utf8\",sep='\\t')\n",
    "\n",
    "labels = corpus_tweets['Label'].unique()\n",
    "\n",
    "print(corpus_tweets.shape)\n",
    "\n",
    "print(corpus_tweets.head())\n",
    "\n",
    "print(labels)\n",
    "\n",
    "vectorizer = TfidfVectorizer(norm=None, stop_words=\"english\",max_df=0.95, min_df=2)\n",
    "tfidf = vectorizer.fit_transform(corpus_tweets['Tweet text'])\n",
    "\n",
    "#print(vectorizer.get_feature_names())\n",
    "print(tfidf.shape)\n",
    "\n",
    "X = tfidf;\n",
    "y = corpus_tweets['Label'];\n",
    "\n",
    "testsizev = [0.2, 0.3, 0.4]\n",
    "gammav = [0.0001, 'auto', 'scale']\n",
    "reports = []"
   ]
  },
  {
   "cell_type": "markdown",
   "metadata": {},
   "source": [
    "Código principal utilizado:"
   ]
  },
  {
   "cell_type": "code",
   "execution_count": 2,
   "metadata": {},
   "outputs": [
    {
     "name": "stdout",
     "output_type": "stream",
     "text": [
      "              precision    recall  f1-score   support\n",
      "\n",
      "           0       0.62      0.58      0.60       758\n",
      "           1       0.61      0.66      0.63       769\n",
      "\n",
      "    accuracy                           0.62      1527\n",
      "   macro avg       0.62      0.62      0.62      1527\n",
      "weighted avg       0.62      0.62      0.62      1527\n",
      "\n",
      "Confusion matrix for MLP: \n",
      "[[436 322]\n",
      " [263 506]]\n",
      "Confusion matrix, without normalization\n",
      "[[436 322]\n",
      " [263 506]]\n",
      "Normalized confusion matrix\n",
      "[[436 322]\n",
      " [263 506]]\n"
     ]
    },
    {
     "data": {
      "image/png": "[encoded data removed]",
      "text/plain": [
       "<Figure size 432x288 with 2 Axes>"
      ]
     },
     "metadata": {
      "needs_background": "light"
     },
     "output_type": "display_data"
    },
    {
     "data": {
      "image/png": "[encoded data removed]",
      "text/plain": [
       "<Figure size 432x288 with 2 Axes>"
      ]
     },
     "metadata": {
      "needs_background": "light"
     },
     "output_type": "display_data"
    }
   ],
   "source": [
    "X_train, X_test, y_train, y_test = train_test_split(X, y, test_size=0.4, random_state=0)\n",
    "\n",
    "svm_clf = svm.SVC(kernel='rbf',gamma=0.0001,C=20)\n",
    "\n",
    "#Resultados semelhantes:\n",
    "#svm_clf = svm.SVC(kernel='rbf',gamma='scale',C=20)\n",
    "\n",
    "svm_clf.fit(X_train, y_train)\n",
    "y_true, y_pred = y_test, svm_clf.predict(X_test)\n",
    "\n",
    "print(classification_report(y_true, y_pred))\n",
    "print(\"Confusion matrix for MLP: \")\n",
    "print(confusion_matrix(y_true, y_pred))\n",
    "\n",
    "plotConfusionMatrix(svm_clf,X_test,y_test,y_pred,labels)"
   ]
  },
  {
   "cell_type": "markdown",
   "metadata": {},
   "source": [
    "Randomizando os conjuntos de teste e treinamento:"
   ]
  },
  {
   "cell_type": "code",
   "execution_count": 3,
   "metadata": {},
   "outputs": [
    {
     "name": "stdout",
     "output_type": "stream",
     "text": [
      "Accuracy: 0.63\n",
      "Macro avg: 0.62\n",
      "Weighted avg: 0.62\n"
     ]
    }
   ],
   "source": [
    "import random\n",
    "\n",
    "totalacc = 0\n",
    "totalmacro = 0\n",
    "totalweighted = 0\n",
    "ntestes = 30\n",
    "\n",
    "for teste in range(0, ntestes):\n",
    "    X_train, X_test, y_train, y_test = train_test_split(X, y, test_size=0.4, random_state=random.randint(0, 100000))\n",
    "    \n",
    "    svm_clf = svm.SVC(kernel='rbf',gamma=0.0001,C=20)\n",
    "    \n",
    "    svm_clf.fit(X_train, y_train)\n",
    "    y_true, y_pred = y_test, svm_clf.predict(X_test)\n",
    "    report = classification_report(y_true, y_pred, output_dict=True)\n",
    "    totalacc += report['accuracy']\n",
    "    totalmacro += report['macro avg']['f1-score']\n",
    "    totalweighted += report['weighted avg']['f1-score']\n",
    "    \n",
    "print(\"Accuracy: %.2f\" %(totalacc/ntestes))\n",
    "print(\"Macro avg: %.2f\" %(totalmacro/ntestes))\n",
    "print(\"Weighted avg: %.2f\" %(totalweighted/ntestes))"
   ]
  },
  {
   "cell_type": "code",
   "execution_count": null,
   "metadata": {},
   "outputs": [],
   "source": []
  }
 ],
 "metadata": {
  "kernelspec": {
   "display_name": "Python 3",
   "language": "python",
   "name": "python3"
  },
  "language_info": {
   "codemirror_mode": {
    "name": "ipython",
    "version": 3
   },
   "file_extension": ".py",
   "mimetype": "text/x-python",
   "name": "python",
   "nbconvert_exporter": "python",
   "pygments_lexer": "ipython3",
   "version": "3.8.3"
  }
 },
 "nbformat": 4,
 "nbformat_minor": 4
}
